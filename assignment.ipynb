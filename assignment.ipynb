{
 "cells": [
  {
   "attachments": {},
   "cell_type": "markdown",
   "metadata": {},
   "source": [
    "Q1. What is a database? Differentiate between SQL and NoSQL databases.\n",
    "\n",
    "A database is an orangnized collection of structured information or data that is stored and managed on a computer system.\n",
    "\n",
    "SQL ( Structured Query Language )\n",
    "\n",
    "1. SQL database use a structured data model, typically based on tables with predefined schemas.\n",
    "\n",
    "2. SQL database enforce strict data integrity rules through features like primary keys and foreign keys and constraints.\n",
    "\n",
    "3. SQL database generally support ACID property\n",
    "\n",
    "NoSQL Database:\n",
    "\n",
    "1. NoSQL database use various data models such as key-value documents, columnar or graph.\n",
    "\n",
    "2. NoSQL database excel at horizontal scalability, distributed data across multiple server or nodes.\n",
    "\n",
    "3. NoSQL database often prioritize high performance and scalability over strict performance.\n"
   ]
  },
  {
   "attachments": {},
   "cell_type": "markdown",
   "metadata": {},
   "source": [
    "Q2. What is DDL? Explain why CREATE, DROP, ALTER, and TRUNCATE are used with an example\n",
    "\n",
    "DDl stands for data definiation language. It is a subset of SQL used to define and manage the structure of a database.\n",
    "\n",
    "Some examples for DDL statements\n",
    "\n",
    "1. CREATE:\n",
    "The CREATE statement is used to create new database objects,such as tables, indexes, views or schemas.\n",
    "\n",
    "Ex-\n",
    "CREATE TABLE employees (\n",
    "    id INT PRIMARY KEY,\n",
    "    name VARCHAR(50),\n",
    "    age INT,\n",
    "    department VARCHAR(50)\n",
    ")\n",
    "\n",
    "2. DROP:\n",
    "DROP statement is used to remove or delete existing database objects.\n",
    "\n",
    "Ex-\n",
    "DROP TABLE employees\n",
    "\n",
    "3.ALTER \n",
    "ALter statement is used to alter existing database objects.\n",
    "\n",
    "Ex-\n",
    "ALTER TABLE employees\n",
    "ADD COLUMN salary DECIMAL(10, 2)\n",
    "\n",
    "4.TRUNCATE:\n",
    "TRUNCATE statement is used to to remove all data from a table.\n",
    "\n",
    "Ex-\n",
    "TRUNCATE TABLE employees"
   ]
  },
  {
   "attachments": {},
   "cell_type": "markdown",
   "metadata": {},
   "source": [
    "Q3. What is DML? Explain INSERT, UPDATE, and DELETE with an example\n",
    "\n",
    "DML means Data manipulation language\n",
    "\n",
    "1. INSERT:\n",
    "The INSERT statement is used to insert new records into a table.\n",
    "\n",
    "INSERT INTO employee (id, name, age, department)\n",
    "VALUES( 1, 'John Doe', 30 , 'it') \n",
    "\n",
    "2.UPDATE:\n",
    "The UPDATE statement is used to modify existing records in a table.\n",
    "\n",
    "UPDATE employees\n",
    "SET department = 'HR'\n",
    "WHERE id = 1;\n",
    "\n",
    "3. DELETE:\n",
    "The DELETE statement is used to remove records from a table.\n",
    "\n",
    "DELETE FROM employees\n",
    "WHERE age > 40;"
   ]
  },
  {
   "attachments": {},
   "cell_type": "markdown",
   "metadata": {},
   "source": [
    "Q4. What is DQL? Explain SELECT with an example\n",
    "\n",
    "DQL is a data query language.DQL statements primarily consist of the SELECT statement, which is used to specify the data to be retrieved and the conditions for filtering the data.\n",
    "\n",
    "SELECT * FROM employees WHERE name = 'John'"
   ]
  },
  {
   "attachments": {},
   "cell_type": "markdown",
   "metadata": {},
   "source": [
    "Q5. Explain Primary Key and Foreign Key\n",
    "\n",
    "    A primary key is a column or a combination of columns that uniquely identifies each row in a table.\n",
    "\n",
    "    A foreign key is a column or a set of columns in a table that refers to the primary key of another table.\n",
    "\n"
   ]
  },
  {
   "attachments": {},
   "cell_type": "markdown",
   "metadata": {},
   "source": [
    "Q6. Write a python code to connect MySQL to python. Explain the cursor() and execute() method"
   ]
  },
  {
   "cell_type": "code",
   "execution_count": null,
   "metadata": {},
   "outputs": [],
   "source": [
    "import mysql.connector\n",
    "# import mysql.connector \n",
    "# create user 'user'@''%' identified by 'password'\n",
    "\n",
    "# Connection string \n",
    "mydb = mysql.connector.connect(\n",
    "    host='localhost',\n",
    "    user=\"root\",\n",
    "    password=\"password\"\n",
    ")\n",
    "\n",
    "print(mydb)\n",
    "\n",
    "mycursor = mydb.cursor()\n",
    "mycursor.execute(\"SELECT c1,c5 FROM test2.test_table\")\n",
    "for i in mycursor.fetchall():\n",
    "    print(i)\n",
    "mydb.close()\n",
    "\n",
    "# cursor \n",
    "# The cursor() method is used to create a cursor object, which allows you to execute SQL statements and retrieve results from the database. The cursor acts as a handle or pointer that points to a specific location in the result set.\n",
    "\n",
    "# execute()\n",
    "# The execute() method is used to execute an SQL statement or query. It takes the SQL statement as a parameter and sends it to the database for execution. It can also accept additional parameters for parameterized queries to provide values for placeholders."
   ]
  },
  {
   "attachments": {},
   "cell_type": "markdown",
   "metadata": {},
   "source": [
    "Q7. Give the order of execution of SQL clauses in an SQL query.\n",
    "\n",
    "The order of execution of SQL clauses in an SQL query generally follows these steps:\n",
    "\n",
    "1. FORM: The FROM clause specifies the table or tables from which the data will be retrieved.\n",
    "\n",
    "2. WHERE:The WHERE clause filters the data based on specified conditions. It narrows down the result set by evaluating the conditions against each row.\n",
    "\n",
    "3. GROUP BY:The GROUP BY clause is used to group the rows based on one or more columns. It creates distinct groups of data for subsequent aggregation operations.\n",
    "\n",
    "4. HAVING:The HAVING clause is similar to the WHERE clause but is used specifically with the GROUP BY clause. It filters the grouped data based on conditions.\n",
    "\n",
    "5. SELECT:The SELECT clause specifies the columns to be retrieved from the table. It determines which columns will be included in the result set.\n",
    "\n",
    "6. DISTINCT:The DISTINCT keyword is used to eliminate duplicate rows from the result set.\n",
    "\n",
    "7. ORDER BY:The ORDER BY clause is used to sort the result set based on one or more columns. It arranges the rows in ascending (ASC) or descending (DESC) order.\n",
    "\n",
    "8. LIMIT/OFFSET:The LIMIT and OFFSET clauses (may vary depending on the specific database) are used to limit the number of rows returned and skip a specified number of rows, respectively. They are typically used for result pagination.\n"
   ]
  }
 ],
 "metadata": {
  "kernelspec": {
   "display_name": "Python 3",
   "language": "python",
   "name": "python3"
  },
  "language_info": {
   "name": "python",
   "version": "3.10.7"
  },
  "orig_nbformat": 4
 },
 "nbformat": 4,
 "nbformat_minor": 2
}
